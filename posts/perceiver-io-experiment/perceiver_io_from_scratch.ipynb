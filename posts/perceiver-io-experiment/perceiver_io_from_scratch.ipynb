{
 "cells": [
  {
   "cell_type": "markdown",
   "metadata": {},
   "source": [
    "---\n",
    "title: \"A General Purpose Deep Learning Architecture - Perceiver IO From Scratch\"\n",
    "toc: true\n",
    "format:\n",
    "    html: \n",
    "        code-fold: False\n",
    "jupyter: python3\n",
    "author: \"Yann Dupis\"\n",
    "date: \"2022-10-31\"\n",
    "categories: [deep learning, code, from scratch]\n",
    "image: \"./img/cross-attention.png\"\n",
    "---"
   ]
  },
  {
   "cell_type": "markdown",
   "metadata": {},
   "source": [
    "In recent years, we saw tremendous progress across all machine learning tasks from image classification, object detection, and translation, to question answering, text classification, and more. Main drivers of this progress are more compute resources, data, new training approaches such as transfer learning, and also more sophisticated neural network architectures. Fortunately these models are available at our fingertips. If you tackle a computer vision task, you can leverage the [Pytorch Image Models (timm)](https://timm.fast.ai/#List-Models-with-Pretrained-Weights) library. As of now it contains more than 50 different types of architectures translating into 600 models which have [different trade-offs](https://www.kaggle.com/code/jhoward/which-image-models-are-best) in terms of accuracy and inference time, depending on the task. For NLP, you can use the popular [transformer library](https://github.com/huggingface/transformers) from HuggingFace which offers almost [80k models](https://huggingface.co/models) based on about 140 different types of architectures.\n",
    "\n",
    "Each of these neural network architectures, built upon each other by the research community, were able to achieve better performance thanks to very carefully hand-crafted [inductive bias](https://samiraabnar.github.io/articles/2020-05/recurrence) for each specific task. For example, CNNs used in computer vision models such as ResNet have a locality bias where they assume close pixels are related to each other. LSTMs, which used to be popular for NLP tasks before Transformers appeared, have a sequential bias where they process each element of a sequence one after another. However, because the inductive bias is hand-crafted for a specific task, existing architectures are often not able to generalize across multiple modalities. The Perceiver IO ([Jaegle et al, 2021](https://arxiv.org/abs/2107.14795)) architecture released by DeepMind in 2021 aims to solve this challenge and demonstrate they can achieve strong results across a wide variety of single-modal and multi-modal tasks such as: GLUE language benchmark, predicting optical flow between images, image classification, multi-modal video + audio classification, audio-video-label multi-modal autoencoding, etc. \n",
    "\n",
    "In this blog post, we will implement a Perceiver IO architecture from scratch and we will apply it to two different domains: image classification and text classification. In conjunction to this blog post, I highly recommend watching the main author of the Perceiver IO paper [Drew Jaegle's talk](https://www.youtube.com/watch?v=wTZ3o36lXoQ), and reading [this HuggingFace blog post](https://huggingface.co/blog/perceiver). These resources, in addition to training several Perceiver models with the [transformers library](https://github.com/huggingface/transformers), inspired me to implement this architecture from scratch."
   ]
  },
  {
   "cell_type": "code",
   "execution_count": 2,
   "metadata": {},
   "outputs": [
    {
     "name": "stderr",
     "output_type": "stream",
     "text": [
      "/home/ydupis/Documents/datascience/yanndupis.github.io/venv/lib/python3.8/site-packages/tqdm/auto.py:22: TqdmWarning: IProgress not found. Please update jupyter and ipywidgets. See https://ipywidgets.readthedocs.io/en/stable/user_install.html\n",
      "  from .autonotebook import tqdm as notebook_tqdm\n"
     ]
    }
   ],
   "source": [
    "import math\n",
    "import numpy as np\n",
    "\n",
    "import torch\n",
    "from torch import nn\n",
    "import torch.nn.functional as F"
   ]
  },
  {
   "cell_type": "markdown",
   "metadata": {},
   "source": [
    "\n",
    "## Transformers\n",
    "\n",
    "\n",
    "\n",
    "The Perceiver architecture is based on the Transformer architecture ([Vaswani et al., 2017](https://arxiv.org/pdf/1706.03762.pdf)). In this [presentation](https://www.youtube.com/watch?v=wTZ3o36lXoQ), Drew Jaegle describes why transformers are a good candidate for general purpose architectures:\n",
    "\n",
    "- They don't make specific assumptions about the domain.\n",
    "- They have general purpose inductive bias.\n",
    "- Position is a feature instead of being a constraint.\n",
    "- They mainly use matmuls, which are efficiently computed by GPU and TPU.\n",
    "\n",
    "The cons are: \n",
    "\n",
    "- Attention scales quadratically based on the input. \n",
    "- Multilayer perceptron (MLP) scales linearly based on the input. \n",
    "\n",
    "Transformers consist of: a self-attention module, multilayer perceptron (also called feed-forward layer), layer normalization, and skip connections. But really the heart of the transformers is their self-attention module, which the Perceiver architecture innovatively modified to make the module scalable. So let's first implement the self-attention module, understand why it scales quadratically, and learn how the Perceiver architecture addresses this challenge.\n",
    "\n",
    "<figure>\n",
    "<center><img src=\"./img/transformer-architecture.png\" title=\"Alternative text\" width=\"150\"/><center>\n",
    "<figcaption align = \"center\"> Figure 1: Self-Attention with positional encodig from Attention Is All You Need (Vaswani et al 2017)</figcaption>\n",
    "</figure>\n"
   ]
  },
  {
   "cell_type": "markdown",
   "metadata": {},
   "source": [
    "### Self-Attention\n",
    "\n",
    "To build up some intuition about the self-attention mechanism, I highly recommend [Peter Bloem's blog post](https://peterbloem.nl/blog/transformers) or the natural language processing with transformers [book](https://learning.oreilly.com/library/view/natural-language-processing/9781098136789/). Later in this post, we will demonstrate how the perceiver can be applied to images. But let's assume for now that our input is a sentence where each word of the sentence is represented by token embeddings. \n",
    "\n",
    "The self-attention mechanism consists of the following steps:\n",
    "\n",
    "- Project the input (token embeddings in our case) into a query, key and value.\n",
    "- Compute the similarity between the query and the key using a dot product. The result of the dot product represents the attention scores.\n",
    "- Multiply the attention scores by a scaling factor to normalize their variance and apply a softmax so each column of the matrix, representing the attention weights, sums up to 1.\n",
    "- Compute the dot product between the attention weights and the values.\n",
    "\n",
    "The main purpose of the self-attention mechanism is to produce a new representation of the token embeddings where now each new embeddings is a linear combination (or weighted average) of the original embeddings. This allows us to encode some contextual information. For example, we have the following sentence: \"The tree bark is rough to the touch\" and \"I hope her dog doesn’t bark when I knock on the door.\" In these two sentences, we have the word \"bark\" but each has a different meaning. In the first sentence, \"bark\" refers to the tree, and in the second sentence it refers to the dog. When applying the self-attention mechanism to the embedding \"bark\" the new embedding should give more weight to the word \"tree\" in the first sentence and \"dog\" in the second one in order to encode this context. "
   ]
  },
  {
   "cell_type": "code",
   "execution_count": 3,
   "metadata": {},
   "outputs": [],
   "source": [
    "class SelfAttention(nn.Module):\n",
    "    def __init__(\n",
    "        self,\n",
    "        input_dim,\n",
    "        n_channels,\n",
    "    ):\n",
    "        super().__init__()\n",
    "        self.q = nn.Linear(input_dim, n_channels)\n",
    "        self.k = nn.Linear(input_dim, n_channels)\n",
    "        self.v = nn.Linear(input_dim, n_channels)\n",
    "\n",
    "    def forward(self, input):\n",
    "        # (N, input_dim) . (input_dim, qk_channels) -> (N, qk_channels)\n",
    "        query = self.q(input)\n",
    "        # (N, input_dim) . (input_dim, qk_channels) -> (N, qk_channels)\n",
    "        key = self.k(input)\n",
    "        # (N, input_dim) . (input_dim, v_channels) -> (N, v_channels)\n",
    "        value = self.v(input)\n",
    "\n",
    "        scale = 1.0 / math.sqrt(query.size(-1))\n",
    "        # (N, qk_channels) . (qk_channels, N) -> (N, N)\n",
    "        scores = torch.bmm(query, key.transpose(-1, -2)) * scale\n",
    "        print(f\"Attention score shape: {scores.shape}\")\n",
    "        weights = F.softmax(scores, dim=-1)\n",
    "        # (N, N) . (N, v_channels) -> (N, v_channels)\n",
    "        return torch.bmm(weights, value)"
   ]
  },
  {
   "cell_type": "markdown",
   "metadata": {},
   "source": [
    "Let's apply the self-attention module to a tensor of shape `(1, 3, 5)`. We will assume the input is a sentence containing three words, each represented by an embedding token of length 5. "
   ]
  },
  {
   "cell_type": "code",
   "execution_count": 4,
   "metadata": {},
   "outputs": [
    {
     "name": "stdout",
     "output_type": "stream",
     "text": [
      "Input shape: torch.Size([1, 3, 5])\n",
      "Attention score shape: torch.Size([1, 3, 3])\n",
      "Output shape torch.Size([1, 3, 3])\n"
     ]
    }
   ],
   "source": [
    "x_embed = torch.ones(1, 3, 5)\n",
    "print(f\"Input shape: {x_embed.shape}\")\n",
    "self_attn = SelfAttention(5, 3)\n",
    "attn_out = self_attn(x_embed)\n",
    "print(f\"Output shape {attn_out.shape}\")"
   ]
  },
  {
   "cell_type": "markdown",
   "metadata": {},
   "source": [
    "We can see the attention score has a shape of `(1, 3, 3)` and the output shape is `(1, 3, 5)`. Let's now apply the self-attention mechanism to an input containing 10 words and see how it impacts the size of attention score tensor and the output."
   ]
  },
  {
   "cell_type": "code",
   "execution_count": 5,
   "metadata": {},
   "outputs": [
    {
     "name": "stdout",
     "output_type": "stream",
     "text": [
      "Input shape: torch.Size([1, 10, 5])\n",
      "Attention score shape: torch.Size([1, 10, 10])\n",
      "Output shape torch.Size([1, 10, 3])\n"
     ]
    }
   ],
   "source": [
    "x = torch.ones(1, 10, 5)\n",
    "print(f\"Input shape: {x.shape}\")\n",
    "self_attn = SelfAttention(5, 3)\n",
    "attn_out = self_attn(x)\n",
    "print(f\"Output shape {attn_out.shape}\")"
   ]
  },
  {
   "cell_type": "markdown",
   "metadata": {},
   "source": [
    "For an input of shape `(1, 10, 5)`, the new attention score shape is `(1, 10, 10)`. So as you can see the attention score scales quadratically based on the input. Same thing happens for the second dot product between the weights and the values, and the output shape is `(1, 10, 3)`. Therefore it increases linearly. Later we will see that the output of the self-attention module is fed into an MLP layer. Because the output of the self-attention module scales linearly based on the input, the MLP layer will also scale linearly based on the input.\n",
    "\n",
    "Ok, so let's learn how Perceiver IO is addressing the transformer scalability issue while maintaining its generality property."
   ]
  },
  {
   "cell_type": "markdown",
   "metadata": {},
   "source": [
    "### Cross-Attention\n",
    "\n",
    "Perceiver IO introduces the idea of using a cross attention module to encode the input into a latent space. To do so, instead of passing the input to the query, Perceiver IO uses a latent variable, which has smaller dimension than the input. You can think about this latent variable as the learned initial stated for RNN.\n",
    "\n",
    "<figure>\n",
    "<center><img src=\"./img/cross-attention.png\" width=\"400\" /></center>\n",
    "<figcaption align = \"center\"> Figure 2: cross-attention from Perceiver IO encoder from (Jaegle et al 2022)</figcaption>\n",
    "<figure>\n",
    "\n",
    "You can find other examples of cross-attention for computer vision in the papers: End-to-End Object Detection with Transformers ([Carion et al, 2020](https://arxiv.org/abs/2005.12872)), and Object-Centric Learning with Slot Attention ([Locatello et al, 2020](https://arxiv.org/abs/2006.15055)).\n"
   ]
  },
  {
   "cell_type": "code",
   "execution_count": 6,
   "metadata": {},
   "outputs": [],
   "source": [
    "class CrossAttention(nn.Module):\n",
    "    def __init__(\n",
    "        self,\n",
    "        input_kv_dim,\n",
    "        input_q_dim,\n",
    "        qk_channels,\n",
    "        v_channels,\n",
    "    ):\n",
    "        super().__init__()\n",
    "        self.q = nn.Linear(input_q_dim, qk_channels)\n",
    "        self.k = nn.Linear(input_kv_dim, qk_channels)\n",
    "        self.v = nn.Linear(input_kv_dim, v_channels)\n",
    "\n",
    "    def forward(self, input_kv, input_q):\n",
    "        # (M, input_q_dim) . (input_q_dim, qk_channels) -> (N, qk_channels)\n",
    "        query = self.q(input_q)\n",
    "        # (N, input_kv_dim) . (input_kv_dim, qk_channels) -> (N, qk_channels)\n",
    "        key = self.k(input_kv)\n",
    "        # (N, input_kv_dim) . (input_kv_dim, v_channels) -> (N, v_channels)\n",
    "        value = self.v(input_kv)\n",
    "\n",
    "        scale = 1.0 / math.sqrt(query.size(-1))\n",
    "        # (M, qk_channels) . (qk_channels, N) -> (M, N)\n",
    "        scores = torch.bmm(query, key.transpose(-1, -2)) * scale\n",
    "        print(f\"Attention score shape: {scores.shape}\")\n",
    "        weights = F.softmax(scores, dim=-1)\n",
    "        # (M, N) . (N, v_channels) -> (M, v_channels)\n",
    "        return torch.bmm(weights, value)"
   ]
  },
  {
   "cell_type": "markdown",
   "metadata": {},
   "source": [
    "To demonstrate it's cheaper to encode the input to a latent space instead of using self-attention, let's go through concrete examples."
   ]
  },
  {
   "cell_type": "code",
   "execution_count": 7,
   "metadata": {},
   "outputs": [
    {
     "name": "stdout",
     "output_type": "stream",
     "text": [
      "Input shape: torch.Size([1, 10, 5])\n",
      "Latent shape: torch.Size([1, 2, 3])\n",
      "Attention score shape: torch.Size([1, 2, 10])\n",
      "Output shape torch.Size([1, 2, 3])\n"
     ]
    }
   ],
   "source": [
    "x = torch.ones(1, 10, 5)\n",
    "latent = nn.Parameter(torch.randn(1, 2, 3))\n",
    "print(f\"Input shape: {x.shape}\")\n",
    "print(f\"Latent shape: {latent.shape}\")\n",
    "self_attn = CrossAttention(5, 3, 4, 3)\n",
    "attn_out = self_attn(x, latent)\n",
    "print(f\"Output shape {attn_out.shape}\")"
   ]
  },
  {
   "cell_type": "markdown",
   "metadata": {},
   "source": [
    "Let's say we have our previous input of shape `(1, 10, 5)` and a new latent variable of shape `(1, 2, 3)`. The attention score now has a shape of `(1, 2, 10)`. So instead of scaling quadratically based on the input size, the score scales linearly based on the size of the latent variable which can be controlled. The second matrix of the cross-attention module also scales linearly. But more importantly, the output, which the MLP layer will use, also scales linearly based on the latent size instead of the input size. The output now has a shape of `(1, 2, 3)` instead of `(1, 10, 3)`. \n",
    "\n",
    "Excellent! We now have implemented a cross-attention module which scales linearly based on the latent variable, which will allow us to compute on larger inputs such as images or longer text sequences. Later, you will see that the Perceiver IO architecture also uses a self-attention module on the latent array. So let's create a general attention module which can be parametrized to become a self-attention or cross-attention module depending on our need."
   ]
  },
  {
   "cell_type": "code",
   "execution_count": 8,
   "metadata": {},
   "outputs": [],
   "source": [
    "class AttentionHead(nn.Module):\n",
    "    def __init__(\n",
    "        self,\n",
    "        is_cross_attention,\n",
    "        input_kv_dim,\n",
    "        input_q_dim,\n",
    "        qk_channels_per_head,\n",
    "        v_channels_per_head,\n",
    "        attention_prob_dropout_prob=0.1,\n",
    "    ):\n",
    "        super().__init__()\n",
    "        self.is_cross_attention = is_cross_attention\n",
    "        if not is_cross_attention:\n",
    "            input_kv_dim = input_q_dim\n",
    "\n",
    "        self.q = nn.Linear(input_q_dim, qk_channels_per_head)\n",
    "        self.k = nn.Linear(input_kv_dim, qk_channels_per_head)\n",
    "        self.v = nn.Linear(input_kv_dim, v_channels_per_head)\n",
    "        self.dropout = nn.Dropout(attention_prob_dropout_prob)\n",
    "\n",
    "    def forward(self, input_kv, input_q):\n",
    "        query = self.q(input_q)\n",
    "\n",
    "        if self.is_cross_attention & (input_kv is not None):\n",
    "            key = self.k(input_kv)\n",
    "            value = self.v(input_kv)\n",
    "        else:\n",
    "            key = self.k(input_q)\n",
    "            value = self.v(input_q)\n",
    "\n",
    "        scale = 1.0 / math.sqrt(query.size(-1))\n",
    "        scores = torch.bmm(query, key.transpose(-1, -2)) * scale\n",
    "        weights = F.softmax(scores, dim=-1)\n",
    "        weights = self.dropout(weights)\n",
    "        return torch.bmm(weights, value)"
   ]
  },
  {
   "cell_type": "markdown",
   "metadata": {},
   "source": [
    "Until now, we have implemented a single head attention, but most transformers  are multi-head attention. The benefits of having multiple heads are that  each head can focus on different aspects of an image (edges, colors, etc.) or a sentence, instead of on a single aspect. \n",
    "\n",
    "We can simply create a multi-head attention layer by instantiating several heads and concatenating their outputs. Usually we also apply a linear layer to the final output. Note that it's possible to avoid instantiating an `AttentionHead` for each head and concatenating their outputs. You could have the linear layers with number of output features equal to `number of channels per head * number of heads` for the query, key and value. Then you could reshape the output from the query, key and value to `(batch_size, num_heads, time (N or M), number of channels per head)`. As an example, you can check the [transformers implementation](https://github.com/huggingface/transformers/blob/bd469c40659ce76c81f69c7726759d249b4aef49/src/transformers/models/perceiver/modeling_perceiver.py#L259)."
   ]
  },
  {
   "cell_type": "code",
   "execution_count": 9,
   "metadata": {},
   "outputs": [],
   "source": [
    "class MultiHeadAttention(nn.Module):\n",
    "    def __init__(\n",
    "        self,\n",
    "        is_cross_attention,\n",
    "        input_kv_dim,\n",
    "        input_q_dim,\n",
    "        qk_channels,\n",
    "        v_channels,\n",
    "        num_heads,\n",
    "    ):\n",
    "        super().__init__()\n",
    "\n",
    "        qk_channels_per_head = qk_channels // num_heads\n",
    "        v_channels_per_head = v_channels // num_heads\n",
    "\n",
    "        self.heads = nn.ModuleList(\n",
    "            [\n",
    "                AttentionHead(\n",
    "                    is_cross_attention,\n",
    "                    input_kv_dim,\n",
    "                    input_q_dim,\n",
    "                    qk_channels_per_head,\n",
    "                    v_channels_per_head,\n",
    "                )\n",
    "                for _ in range(num_heads)\n",
    "            ]\n",
    "        )\n",
    "\n",
    "        self.linear = nn.Linear(v_channels, v_channels)\n",
    "\n",
    "    def forward(self, input, latent_embedding):\n",
    "        x = torch.cat([h(input, latent_embedding) for h in self.heads], dim=-1)\n",
    "        return self.linear(x)"
   ]
  },
  {
   "cell_type": "code",
   "execution_count": 10,
   "metadata": {},
   "outputs": [
    {
     "name": "stdout",
     "output_type": "stream",
     "text": [
      "Multi-head attention input shape: torch.Size([1, 10, 5])\n",
      "Multi-head attention output shape: torch.Size([1, 2, 6])\n"
     ]
    }
   ],
   "source": [
    "self_attention = MultiHeadAttention(True, 5, 3, 8, 6, 2)\n",
    "self_attention_multi_head = self_attention(x, latent)\n",
    "print(f\"Multi-head attention input shape: {x.shape}\")\n",
    "print(f\"Multi-head attention output shape: {self_attention_multi_head.shape}\")"
   ]
  },
  {
   "cell_type": "markdown",
   "metadata": {},
   "source": [
    "Voilà, we have our multi-head attention layer which can become a self-attention or cross-attention layer by setting the `is_cross_attention` parameter. Since we have implemented the main building block, we are ready to implement the full Perceiver architecture!"
   ]
  },
  {
   "cell_type": "markdown",
   "metadata": {},
   "source": [
    "## Perceiver Architecture\n",
    "\n",
    "The Perceiver architecture consists of three main build blocks: encoder, processor and decoder. The input gets first encoded into a latent array, then the latent representation gets refined via several processing layers. Finally, the latent gets decoded into an output. As you can see in the diagram below, the encoder and decoder are using a cross-attention module, and the processor is using a self-attention module. What's amazing with the Perceiver architecture is that it can handle any modalities thanks to the encoder and decoder modules. Additionally, the size of the inputs and outputs is not a problem anymore since they both use a cross-attention module where the latent size is independent of the input size. \n",
    "\n",
    "<center><img src=\"./img/perceiver-architecture.png\" width=\"400\" /></center>\n",
    "<figcaption align = \"center\"> Figure 3: encode (cross-attention), process (self-attention) and decode (cross-attention) attention modules from Perceiver IO (Jaegle et al 2022)</figcaption>\n",
    "</figure>"
   ]
  },
  {
   "cell_type": "markdown",
   "metadata": {},
   "source": [
    "Let's implement the encoder!"
   ]
  },
  {
   "cell_type": "markdown",
   "metadata": {},
   "source": [
    "### Encoder\n",
    "\n",
    "The Perceiver encoder module is very similar to the encoder you could find in Bert architecture except it uses cross-attention with a latent variable. In addition to the cross-attention module we just need to add:\n",
    "\n",
    "- A multi-perceptron module: two fully connected layers processing each latent vector independently, a GELU activation, and a dropout layer.\n",
    "- Two layer-normalization layers  \n",
    "- Two skip connections\n",
    "\n",
    "Ok, let's see how we can combine these components to build our encoder."
   ]
  },
  {
   "cell_type": "code",
   "execution_count": 43,
   "metadata": {},
   "outputs": [],
   "source": [
    "class MLP(nn.Module):\n",
    "    def __init__(self, input_size, widening_factor, dropout_prob=0.0):\n",
    "        super().__init__()\n",
    "        self.dense1 = nn.Linear(input_size, input_size * widening_factor)\n",
    "        self.dense2 = nn.Linear(input_size * widening_factor, input_size)\n",
    "        self.gelu = nn.GELU()\n",
    "        self.dropout = nn.Dropout()\n",
    "\n",
    "    def forward(self, x):\n",
    "        x = self.dense1(x)\n",
    "        x = self.gelu(x)\n",
    "        x = self.dense2(x)\n",
    "        return self.dropout(x)\n",
    "\n",
    "\n",
    "class PerceiverEncoder(nn.Module):\n",
    "    def __init__(\n",
    "        self,\n",
    "        input_dim,\n",
    "        latent_embedding_dim,\n",
    "        qk_channels,\n",
    "        v_channels,\n",
    "        num_heads,\n",
    "        widening_factor,\n",
    "    ):\n",
    "        super().__init__()\n",
    "\n",
    "        self.layer_norm_1 = nn.LayerNorm(input_dim)\n",
    "        self.layer_norm_2 = nn.LayerNorm(latent_embedding_dim)\n",
    "\n",
    "        self.attention = MultiHeadAttention(\n",
    "            is_cross_attention=True,\n",
    "            input_kv_dim=input_dim,\n",
    "            input_q_dim=latent_embedding_dim,\n",
    "            qk_channels=qk_channels,\n",
    "            v_channels=v_channels,\n",
    "            num_heads=num_heads,\n",
    "        )\n",
    "\n",
    "        self.mlp = MLP(v_channels, widening_factor=widening_factor)\n",
    "\n",
    "    def forward(self, input, latent):\n",
    "        input_norm = self.layer_norm_1(input)\n",
    "        latent_embedding_norm = self.layer_norm_2(latent)\n",
    "        x_qkv = self.attention(input_norm, latent_embedding_norm)\n",
    "        x_qkv = x_qkv + latent\n",
    "        x_qkv = x_qkv + self.mlp(latent_embedding_norm)\n",
    "        return x_qkv"
   ]
  },
  {
   "cell_type": "code",
   "execution_count": 44,
   "metadata": {},
   "outputs": [
    {
     "name": "stdout",
     "output_type": "stream",
     "text": [
      "Input shape: torch.Size([1, 3, 6])\n",
      "Latent variable shape: torch.Size([1, 2, 6])\n",
      "Encoder output shape: torch.Size([1, 2, 6])\n"
     ]
    }
   ],
   "source": [
    "perceiver_encoded = PerceiverEncoder(6, 6, 8, 6, 2, 2)\n",
    "input = torch.ones(size=(1, 3, 6))\n",
    "latent = nn.Parameter(torch.randn(1, 2, 6))\n",
    "encoder_output = perceiver_encoded(input, latent)\n",
    "print(f\"Input shape: {input.shape}\")\n",
    "print(f\"Latent variable shape: {latent.shape}\")\n",
    "print(f\"Encoder output shape: {encoder_output.shape}\")"
   ]
  },
  {
   "cell_type": "markdown",
   "metadata": {},
   "source": [
    "Excellent, we have successfully implemented our encoder layer. In fact, the processor and the decoder use the exact same ingredients, except the processor will use a self-attention module. So let's refactor our encoder to use `PerceiverLayer` which can be parametrized to use a cross-attention or self-attention module."
   ]
  },
  {
   "cell_type": "code",
   "execution_count": 45,
   "metadata": {},
   "outputs": [],
   "source": [
    "class PerceiverLayer(nn.Module):\n",
    "    def __init__(\n",
    "        self,\n",
    "        input_kv_dim,\n",
    "        input_q_dim,\n",
    "        qk_channels,\n",
    "        v_channels,\n",
    "        num_heads,\n",
    "        widening_factor,\n",
    "        is_cross_attention,\n",
    "    ):\n",
    "        super().__init__()\n",
    "\n",
    "        if input_kv_dim is None:\n",
    "            input_kv_dim = input_q_dim\n",
    "\n",
    "        self.layer_norm_1 = nn.LayerNorm(input_kv_dim)\n",
    "        self.layer_norm_2 = nn.LayerNorm(input_q_dim)\n",
    "\n",
    "        self.attention = MultiHeadAttention(\n",
    "            is_cross_attention=is_cross_attention,\n",
    "            input_kv_dim=input_kv_dim,\n",
    "            input_q_dim=input_q_dim,\n",
    "            qk_channels=qk_channels,\n",
    "            v_channels=v_channels,\n",
    "            num_heads=num_heads,\n",
    "        )\n",
    "\n",
    "        self.mlp = MLP(v_channels, widening_factor=widening_factor)\n",
    "\n",
    "    def forward(self, input_kv, input_q):\n",
    "        input_kv_norm = self.layer_norm_1(input_kv)\n",
    "        input_q_norm = self.layer_norm_2(input_q)\n",
    "        x_qkv = self.attention(input_kv_norm, input_q_norm)\n",
    "        x_qkv = x_qkv + input_q\n",
    "        x_qkv = x_qkv + self.mlp(input_q_norm)\n",
    "        return x_qkv\n",
    "\n",
    "\n",
    "class PerceiverEncoder(nn.Module):\n",
    "    def __init__(\n",
    "        self,\n",
    "        input_dim,\n",
    "        latent_dim,\n",
    "        qk_channels,\n",
    "        v_channels,\n",
    "        num_heads,\n",
    "        widening_factor,\n",
    "    ):\n",
    "        super().__init__()\n",
    "\n",
    "        self.encoder = PerceiverLayer(\n",
    "            input_kv_dim=input_dim,\n",
    "            input_q_dim=latent_dim,\n",
    "            qk_channels=qk_channels,\n",
    "            v_channels=v_channels,\n",
    "            num_heads=num_heads,\n",
    "            widening_factor=widening_factor,\n",
    "            is_cross_attention=True,\n",
    "        )\n",
    "\n",
    "    def forward(self, input, latent_embeddings):\n",
    "        return self.encoder(input_kv=input, input_q=latent_embeddings)"
   ]
  },
  {
   "cell_type": "code",
   "execution_count": 46,
   "metadata": {},
   "outputs": [
    {
     "name": "stdout",
     "output_type": "stream",
     "text": [
      "Input shape: torch.Size([1, 3, 6])\n",
      "Latent variable shape: torch.Size([1, 2, 6])\n",
      "Encoder output shape: torch.Size([1, 2, 6])\n"
     ]
    }
   ],
   "source": [
    "perceiver_encoded = PerceiverEncoder(6, 6, 8, 6, 2, 2)\n",
    "input = torch.ones(size=(1, 3, 6))\n",
    "latent = nn.Parameter(torch.randn(1, 2, 6))\n",
    "perceiver_encoded(input, latent).shape\n",
    "\n",
    "encoder_output = perceiver_encoded(input, latent)\n",
    "print(f\"Input shape: {input.shape}\")\n",
    "print(f\"Latent variable shape: {latent.shape}\")\n",
    "print(f\"Encoder output shape: {encoder_output.shape}\")"
   ]
  },
  {
   "cell_type": "markdown",
   "metadata": {},
   "source": [
    "Our `PerceiverEncoder` layer now looks much simpler with our new generic `PerceiverLayer`."
   ]
  },
  {
   "cell_type": "markdown",
   "metadata": {},
   "source": [
    "### Processor\n",
    "\n",
    "Our Processor layer is going to be responsible for refining the latent representation we obtained from the encoder. So this layer has a single input, the latent array, and we apply a self-attention module in conjunction with an MLP layer, layer-normalization, and skip connection (i.e `PerceiverLayer` configured as self-attention)."
   ]
  },
  {
   "cell_type": "code",
   "execution_count": 47,
   "metadata": {},
   "outputs": [],
   "source": [
    "class PerceiverProcessor(nn.Module):\n",
    "    def __init__(self, latent_dim, qk_channels, v_channels, num_heads, widening_factor):\n",
    "        super().__init__()\n",
    "\n",
    "        self.processor = PerceiverLayer(\n",
    "            input_kv_dim=None,\n",
    "            input_q_dim=latent_dim,\n",
    "            qk_channels=qk_channels,\n",
    "            v_channels=v_channels,\n",
    "            num_heads=num_heads,\n",
    "            widening_factor=widening_factor,\n",
    "            is_cross_attention=False,\n",
    "        )\n",
    "\n",
    "    def forward(self, latent):\n",
    "        return self.processor(input_kv=latent, input_q=latent)"
   ]
  },
  {
   "cell_type": "code",
   "execution_count": 48,
   "metadata": {},
   "outputs": [
    {
     "name": "stdout",
     "output_type": "stream",
     "text": [
      "Latent array (input) shape: torch.Size([1, 2, 6])\n",
      "Processor output shape: torch.Size([1, 2, 6])\n"
     ]
    }
   ],
   "source": [
    "latent = nn.Parameter(torch.randn(1, 2, 6))\n",
    "perceiver_processor = PerceiverProcessor(6, 8, 6, 2, 2)\n",
    "processor_output = perceiver_processor(latent)\n",
    "\n",
    "print(f\"Latent array (input) shape: {latent.shape}\")\n",
    "print(f\"Processor output shape: {processor_output.shape}\")"
   ]
  },
  {
   "cell_type": "markdown",
   "metadata": {},
   "source": [
    "We are almost ready to combine everything to create a complete architecture. We just need to implement the decoder module."
   ]
  },
  {
   "cell_type": "markdown",
   "metadata": {},
   "source": [
    "### Decoder\n",
    "\n",
    "The perceiver decoder will map the latent array to an output array. To do so, we can query the latent array with a query vector. Note that this query vector can be hand-designed, or learned embeddings, or a function of the input. For this blog post, we will use learned embeddings. To query the latent array returned by the processor, we simply need to compute the cross-attention between a learned query variable and the latent array. The query should have the same number of elements as the desired output."
   ]
  },
  {
   "cell_type": "code",
   "execution_count": 49,
   "metadata": {},
   "outputs": [],
   "source": [
    "class PerceiverDecoder(nn.Module):\n",
    "    def __init__(\n",
    "        self,\n",
    "        num_output_channels,\n",
    "        latent_dim,\n",
    "        query_dim,\n",
    "        qk_channels,\n",
    "        v_channels,\n",
    "        num_heads,\n",
    "        widening_factor,\n",
    "    ):\n",
    "        super().__init__()\n",
    "\n",
    "        self.decoder = PerceiverLayer(\n",
    "            input_kv_dim=latent_dim,\n",
    "            input_q_dim=query_dim,\n",
    "            qk_channels=qk_channels,\n",
    "            v_channels=v_channels,\n",
    "            num_heads=num_heads,\n",
    "            widening_factor=widening_factor,\n",
    "            is_cross_attention=True,\n",
    "        )\n",
    "\n",
    "        self.dense = nn.Linear(query_dim, num_output_channels)\n",
    "\n",
    "    def forward(self, latent, query):\n",
    "        attn_output = self.decoder(latent, query)\n",
    "        logit = self.dense(attn_output)\n",
    "        return logit"
   ]
  },
  {
   "cell_type": "markdown",
   "metadata": {},
   "source": [
    "Let's run the decoder with an expected output of 10 elements. For example, an image classification task with 10 potential different labels."
   ]
  },
  {
   "cell_type": "code",
   "execution_count": 50,
   "metadata": {},
   "outputs": [
    {
     "name": "stdout",
     "output_type": "stream",
     "text": [
      "Latent array shape: torch.Size([1, 3, 5])\n",
      "Query variable shape: torch.Size([1, 1, 10])\n",
      "Perceiver decoder output shape: torch.Size([1, 1, 10])\n"
     ]
    }
   ],
   "source": [
    "latent = torch.ones(1, 3, 5)\n",
    "query_variable = nn.Parameter(torch.randn(1, 1, 10))\n",
    "q_dim = 10\n",
    "kv_dim = 5\n",
    "num_output_channels = 10\n",
    "qk_channels = q_dim\n",
    "v_channels = qk_channels\n",
    "num_heads = 1\n",
    "widening_factor = 1\n",
    "\n",
    "perceiver_decoder = PerceiverDecoder(\n",
    "    num_output_channels,\n",
    "    kv_dim,\n",
    "    q_dim,\n",
    "    qk_channels,\n",
    "    v_channels,\n",
    "    num_heads,\n",
    "    widening_factor,\n",
    ")\n",
    "\n",
    "perceiver_decoder_output = perceiver_decoder(latent, query_variable)\n",
    "print(f\"Latent array shape: {latent.shape}\")\n",
    "print(f\"Query variable shape: {query_variable.shape}\")\n",
    "print(f\"Perceiver decoder output shape: {perceiver_decoder_output.shape}\")"
   ]
  },
  {
   "cell_type": "markdown",
   "metadata": {},
   "source": [
    "As expected, the output of the decoder returns 10 elements matching the number of labels."
   ]
  },
  {
   "cell_type": "markdown",
   "metadata": {},
   "source": [
    "### Perceiver IO = Encoder + Processor + Decoder\n",
    "\n",
    "We now have all the building blocks to create a complete PerceiverIO architecture. As discussed earlier, the latent variable for the encoder and the query variable for the decoder are learned. So we can create a `LearnedEmbedding` layer to instantiate latent and query variables. Otherwise, it's straight-forward. The encoder takes the input array as an input, and the latent variable then returns a latent array. Then this latent array is fed into the processor. Finally the latent array is queried by the decoder with a learned query. The output of our decoder will be the logits, which we will use to compute our loss when training the image and text classification task."
   ]
  },
  {
   "cell_type": "code",
   "execution_count": 51,
   "metadata": {},
   "outputs": [],
   "source": [
    "class LearnedEmbeddings(nn.Module):\n",
    "    def __init__(self, index_dim, num_channels=128):\n",
    "        super().__init__()\n",
    "        self.index_dim = index_dim\n",
    "        self.num_channels = num_channels\n",
    "        self.learned_embeddings = nn.Parameter(torch.randn(index_dim, num_channels))\n",
    "\n",
    "    def forward(self, batch_size):\n",
    "        return self.learned_embeddings.expand(batch_size, -1, -1)\n",
    "\n",
    "\n",
    "class PerceiverIO(nn.Module):\n",
    "    def __init__(\n",
    "        self,\n",
    "        n_labels,\n",
    "        input_dim,\n",
    "        latent_embedding_dim,\n",
    "        query_dim,\n",
    "        qk_channels,\n",
    "        v_channels,\n",
    "        num_latents,\n",
    "        num_heads,\n",
    "        nb_processor,\n",
    "        widening_factor,\n",
    "        input_processor=None,\n",
    "    ):\n",
    "        super().__init__()\n",
    "\n",
    "        self.input_processor = input_processor if input_processor else nn.Identity()\n",
    "\n",
    "        self.latent_embeddings = LearnedEmbeddings(num_latents, latent_embedding_dim)\n",
    "        self.query_embeddings = LearnedEmbeddings(1, query_dim)\n",
    "\n",
    "        self.encoder = PerceiverEncoder(\n",
    "            input_dim=input_dim,\n",
    "            latent_dim=latent_embedding_dim,\n",
    "            qk_channels=qk_channels,\n",
    "            v_channels=v_channels,\n",
    "            num_heads=num_heads,\n",
    "            widening_factor=widening_factor,\n",
    "        )\n",
    "\n",
    "        self.processors = nn.ModuleList(\n",
    "            [\n",
    "                PerceiverProcessor(\n",
    "                    latent_dim=latent_embedding_dim,\n",
    "                    qk_channels=qk_channels,\n",
    "                    v_channels=v_channels,\n",
    "                    num_heads=num_heads,\n",
    "                    widening_factor=widening_factor,\n",
    "                )\n",
    "                for _ in range(nb_processor)\n",
    "            ]\n",
    "        )\n",
    "\n",
    "        self.decoder = PerceiverDecoder(\n",
    "            num_output_channels=n_labels,\n",
    "            latent_dim=latent_embedding_dim,\n",
    "            query_dim=query_dim,\n",
    "            qk_channels=qk_channels,\n",
    "            v_channels=v_channels,\n",
    "            num_heads=num_heads,\n",
    "            widening_factor=widening_factor,\n",
    "        )\n",
    "\n",
    "    def forward(self, inputs):\n",
    "        batch_size = inputs.shape[0]\n",
    "\n",
    "        latent_embeddings = self.latent_embeddings(batch_size)\n",
    "        query_embeddings = self.query_embeddings(batch_size)\n",
    "\n",
    "        inputs = self.input_processor(inputs)\n",
    "        x = self.encoder(inputs, latent_embeddings)\n",
    "\n",
    "        for p in self.processors:\n",
    "            x = p(x)\n",
    "\n",
    "        logits = self.decoder(x, query_embeddings)\n",
    "\n",
    "        return logits[:, 0, :]"
   ]
  },
  {
   "cell_type": "markdown",
   "metadata": {},
   "source": [
    "Voilà, we have now our full Perceiver IO architecture. Let's now dive into how in the authors of the Perceiver IO paper pre-process an image or text to obtain the input arrays which will be fed into the encoder."
   ]
  },
  {
   "cell_type": "markdown",
   "metadata": {},
   "source": [
    "## Image Classification\n",
    "\n",
    "### Pre-Processing\n",
    "\n",
    "To pre-process an image, the authors of the Perceiver IO paper use different techniques involving 2D Fourier position embeddings with 2D convolution or flatten pixel values. However, for this example, we will use another approach used in the paper, where the authors flatten the pixels by applying a 1D convolution and add learned absolute positional 1D position embeddings. Based on the paper, the other approaches provide better results, but what's unique with this pre-processing approach is that it doesn't provide any information about the 2D image structure.\n",
    "\n",
    "Let's assume we have a tensor representing a batch of images of shape `(batch_size, 3, 32, 32)`. So each image has a width and height of 32 and 3 channels. To pre-process this image we will:\n",
    "\n",
    "- Apply a Conv1D layer to increase the number of channels, for example to 256. So now, let's say our output has a shape of `(batch_size, 256, 32, 32)`.\n",
    "- Transform the tensor returned by Conv1D from channel first to channel last. Our new shape is `(batch_size, 32, 32, 256)`.\n",
    "- Flatten the height with the width of the image. So now we have a shape of `(batch_size, 1024, 256)`.\n",
    "- Instantiate a trainable 1D position embedding for each pixel with, for example, 256 channels. So the shape of the embedding is `(batch_size, 1024, 256)`.\n",
    "- Concatenate the output of the Conv1D layer with the trainable 1D position embedding based on the last dimension. So the final shape will be `(batch_size, 1024, 512)`.\n",
    "\n",
    "That's it! Let's implement it."
   ]
  },
  {
   "cell_type": "code",
   "execution_count": 52,
   "metadata": {},
   "outputs": [],
   "source": [
    "class PositionalEncoding(nn.Module):\n",
    "    def __init__(self, index_dim, num_channels=128):\n",
    "        super().__init__()\n",
    "        self.index_dim = index_dim\n",
    "        self.num_channels = num_channels\n",
    "        self.position_embeddings = nn.Parameter(torch.randn(index_dim, num_channels))\n",
    "\n",
    "    def forward(self, batch_size):\n",
    "        return self.position_embeddings.expand(batch_size, -1, -1)\n",
    "\n",
    "\n",
    "class ImagePreProcessor(nn.Module):\n",
    "    def __init__(\n",
    "        self,\n",
    "        in_channels,\n",
    "        out_channels,\n",
    "        spatial_downsample,\n",
    "        position_encoding_index_dim,\n",
    "        position_encoding_out_channels,\n",
    "    ):\n",
    "        super().__init__()\n",
    "\n",
    "        self.in_channels = in_channels\n",
    "        self.out_channels = out_channels\n",
    "        self.spatial_downsample = spatial_downsample\n",
    "        self.postion_encoding_index_dim = position_encoding_index_dim\n",
    "\n",
    "        self.conv1d = nn.Conv2d(\n",
    "            in_channels=in_channels,\n",
    "            out_channels=out_channels,\n",
    "            kernel_size=(1, 1),\n",
    "            stride=(spatial_downsample, spatial_downsample),\n",
    "        )\n",
    "\n",
    "        self.pos_enc = PositionalEncoding(\n",
    "            position_encoding_index_dim, num_channels=position_encoding_out_channels\n",
    "        )\n",
    "\n",
    "    def forward(self, inputs):\n",
    "        batch_size = inputs.shape[0]\n",
    "        # Increase the number of channels while keeping same height and width\n",
    "        inputs_post_conv1d = self.conv1d(inputs)\n",
    "        # Make channel last\n",
    "        inputs = torch.moveaxis(inputs, 1, -1)\n",
    "        # Flatten from (batch_size, img_size, img_size, num_channels) to (batch_size, img_size*img_size, num_channels)\n",
    "        inputs_post_conv1d = torch.reshape(\n",
    "            inputs_post_conv1d, [batch_size, np.prod(inputs.shape[1:-1]), -1]\n",
    "        )\n",
    "        # Instantiate learned 1D positional embeddings\n",
    "        pos_encoded = self.pos_enc(batch_size)\n",
    "        # Concat inputs post conv1d with 1D positional embeddings\n",
    "        return torch.cat([inputs_post_conv1d, pos_encoded], dim=-1)"
   ]
  },
  {
   "cell_type": "markdown",
   "metadata": {},
   "source": [
    "We can validate we get the expected output shape using an image of shape `(3, 32, 32)` with Conv1D output channels of 256 and a 1D positional embeddings with 256 channels."
   ]
  },
  {
   "cell_type": "code",
   "execution_count": 53,
   "metadata": {},
   "outputs": [
    {
     "name": "stdout",
     "output_type": "stream",
     "text": [
      "Image shape: torch.Size([1, 3, 32, 32])\n",
      "Processed image shape: torch.Size([1, 1024, 512])\n"
     ]
    }
   ],
   "source": [
    "x = torch.ones((1, 3, 32, 32))\n",
    "image_processor = ImagePreProcessor(3, 256, 1, 32**2, 256)\n",
    "processed_image = image_processor(x)\n",
    "\n",
    "print(f\"Image shape: {x.shape}\")\n",
    "print(f\"Processed image shape: {processed_image.shape}\")"
   ]
  },
  {
   "cell_type": "markdown",
   "metadata": {},
   "source": [
    "Excellent, as expected our tensor has a shape of `(1, 1024, 512)`. That's all we need to pre-process our images.\n",
    "\n",
    "We can finally train an image classification model using the Perceiver architecture!"
   ]
  },
  {
   "cell_type": "markdown",
   "metadata": {},
   "source": [
    "### Training\n",
    "\n",
    "To demonstrate we can use the Perceiver IO architecture to classify images, we will use the MNIST dataset. Here, we are using a simple dataset to validate our model can classify images. However, note that in the paper, the authors were able to achieve strong results on the ImageNet dataset, especially when the model was pre-trained and the pre-processor used 2D convolution and MaxPooling layers."
   ]
  },
  {
   "cell_type": "code",
   "execution_count": 54,
   "metadata": {},
   "outputs": [],
   "source": [
    "from torch.optim import AdamW\n",
    "from torch.utils.data import DataLoader\n",
    "\n",
    "from torchvision import datasets\n",
    "from torchvision import transforms\n",
    "\n",
    "from sklearn.metrics import accuracy_score\n",
    "\n",
    "device = \"cuda\" if torch.has_cuda else \"cpu\"\n",
    "\n",
    "transform = transforms.Compose(\n",
    "    [transforms.ToTensor(), transforms.Normalize((0.1307,), (0.3081,))]\n",
    ")\n",
    "\n",
    "training_data = datasets.MNIST(\n",
    "    root=\"data\", train=True, download=True, transform=transform\n",
    ")\n",
    "\n",
    "eval_data = datasets.MNIST(root=\"data\", train=False, download=True, transform=transform)\n",
    "\n",
    "\n",
    "train_dataloader = DataLoader(training_data, batch_size=128, shuffle=True)\n",
    "eval_dataloader = DataLoader(eval_data, batch_size=128, shuffle=True)\n",
    "\n",
    "\n",
    "img_size = 28\n",
    "img_channels = 1\n",
    "img_processor_output_channels = 32\n",
    "img_processor_pos_encoding_out_channels = 32\n",
    "n_labels = 10\n",
    "input_dim = 64\n",
    "latent_embedding_dim = 128\n",
    "num_latents = 258\n",
    "query_dim = 128\n",
    "qk_channels = query_dim\n",
    "v_channels = qk_channels\n",
    "num_heads = 1\n",
    "nb_processors = 3\n",
    "widening_factor = 1\n",
    "spatial_downsample = 1\n",
    "\n",
    "\n",
    "image_processor = ImagePreProcessor(\n",
    "    img_channels,\n",
    "    img_processor_output_channels,\n",
    "    spatial_downsample,\n",
    "    img_size**2,\n",
    "    img_processor_pos_encoding_out_channels,\n",
    ")\n",
    "\n",
    "model = PerceiverIO(\n",
    "    n_labels,\n",
    "    input_dim,\n",
    "    latent_embedding_dim,\n",
    "    query_dim,\n",
    "    qk_channels,\n",
    "    v_channels,\n",
    "    num_latents,\n",
    "    num_heads,\n",
    "    nb_processors,\n",
    "    widening_factor,\n",
    "    input_processor=image_processor,\n",
    ")\n",
    "\n",
    "model = model.to(device)"
   ]
  },
  {
   "cell_type": "markdown",
   "metadata": {},
   "source": [
    "Let's define a generic training and evaluation loop we can reuse later to classify text."
   ]
  },
  {
   "cell_type": "code",
   "execution_count": 55,
   "metadata": {},
   "outputs": [],
   "source": [
    "def train(model, loss_fn, device, train_loader, optimizer, epoch, log_interval=50):\n",
    "    model.train()\n",
    "    for batch_idx, (x, y) in enumerate(train_loader):\n",
    "        x, y = x.to(device), y.to(device)\n",
    "        optimizer.zero_grad()\n",
    "        logits = model(x)\n",
    "        loss = loss_fn(logits, y)\n",
    "        loss.backward()\n",
    "        optimizer.step()\n",
    "\n",
    "        pred = logits.argmax(-1).cpu().numpy()\n",
    "        acc = accuracy_score(y_true=y.cpu().numpy(), y_pred=pred)\n",
    "\n",
    "        if batch_idx % log_interval == 0:\n",
    "            print(\n",
    "                f\"Train Epoch: {epoch} [{batch_idx * len(x)}/{len(train_loader.dataset)} ({(100. * batch_idx  * len(x) / len(train_loader.dataset)):.2f}%)]\\t\"\n",
    "                f\"Loss: {loss.item():.2f} - Accuracy: {acc:.2f}\"\n",
    "            )\n",
    "\n",
    "\n",
    "def eval(model, loss_fn, device, eval_loader):\n",
    "    model.eval()\n",
    "    eval_loss = 0\n",
    "    correct = 0\n",
    "    with torch.no_grad():\n",
    "        for x, y in eval_loader:\n",
    "            x, y = x.to(device), y.to(device)\n",
    "            logits = model(x)\n",
    "            eval_loss += loss_fn(logits, y).item()\n",
    "            pred = logits.argmax(-1, keepdim=True)\n",
    "            correct += pred.eq(y.view_as(pred)).sum().item()\n",
    "\n",
    "    eval_loss /= len(eval_loader.dataset)\n",
    "\n",
    "    print(\n",
    "        f\"\\nTest set: Average loss: {eval_loss:.2f}, Accuracy: \"\n",
    "        f\"{(100. * correct/len(eval_loader.dataset)):.2f}%\\n\"\n",
    "    )"
   ]
  },
  {
   "cell_type": "markdown",
   "metadata": {},
   "source": [
    "To train this model we will use the Adam optimizer with weight decay from Pytorch because we're working with a simple dataset. However, in practice, it's recommended to use an Adam algorithm with a fix weight decay as introduced in Decoupled Weight Decay Regularization ([Loshchilov et al, 2019](https://arxiv.org/abs/1711.05101)). You can find an implementation in the [transformer library](https://huggingface.co/docs/transformers/main_classes/optimizer_schedules#transformers.AdamW). It's also recommended to use a scheduler with a warm-up phase. If you want to learn more about the importance of using adaptive optimizers and learning rate warm-up when training transformers from scratch, I highly recommend [this blog post](https://www.borealisai.com/research-blogs/tutorial-17-transformers-iii-training/) from Borealise AI."
   ]
  },
  {
   "cell_type": "code",
   "execution_count": 56,
   "metadata": {},
   "outputs": [
    {
     "name": "stdout",
     "output_type": "stream",
     "text": [
      "Train Epoch: 0 [0/60000 (0.00%)]\tLoss: 2.59 - Accuracy: 0.12\n",
      "Train Epoch: 0 [12800/60000 (21.33%)]\tLoss: 1.08 - Accuracy: 0.64\n",
      "Train Epoch: 0 [25600/60000 (42.67%)]\tLoss: 0.64 - Accuracy: 0.79\n",
      "Train Epoch: 0 [38400/60000 (64.00%)]\tLoss: 0.57 - Accuracy: 0.85\n",
      "Train Epoch: 0 [51200/60000 (85.33%)]\tLoss: 0.60 - Accuracy: 0.79\n",
      "\n",
      "Test set: Average loss: 0.00, Accuracy: 87.84%\n",
      "\n",
      "Train Epoch: 1 [0/60000 (0.00%)]\tLoss: 0.43 - Accuracy: 0.85\n",
      "Train Epoch: 1 [12800/60000 (21.33%)]\tLoss: 0.26 - Accuracy: 0.91\n",
      "Train Epoch: 1 [25600/60000 (42.67%)]\tLoss: 0.36 - Accuracy: 0.90\n",
      "Train Epoch: 1 [38400/60000 (64.00%)]\tLoss: 0.27 - Accuracy: 0.91\n",
      "Train Epoch: 1 [51200/60000 (85.33%)]\tLoss: 0.35 - Accuracy: 0.90\n",
      "\n",
      "Test set: Average loss: 0.00, Accuracy: 93.31%\n",
      "\n",
      "Train Epoch: 2 [0/60000 (0.00%)]\tLoss: 0.19 - Accuracy: 0.95\n",
      "Train Epoch: 2 [12800/60000 (21.33%)]\tLoss: 0.16 - Accuracy: 0.95\n",
      "Train Epoch: 2 [25600/60000 (42.67%)]\tLoss: 0.14 - Accuracy: 0.95\n",
      "Train Epoch: 2 [38400/60000 (64.00%)]\tLoss: 0.30 - Accuracy: 0.94\n",
      "Train Epoch: 2 [51200/60000 (85.33%)]\tLoss: 0.26 - Accuracy: 0.91\n",
      "\n",
      "Test set: Average loss: 0.00, Accuracy: 94.85%\n",
      "\n",
      "Train Epoch: 3 [0/60000 (0.00%)]\tLoss: 0.13 - Accuracy: 0.95\n",
      "Train Epoch: 3 [12800/60000 (21.33%)]\tLoss: 0.10 - Accuracy: 0.98\n",
      "Train Epoch: 3 [25600/60000 (42.67%)]\tLoss: 0.23 - Accuracy: 0.93\n",
      "Train Epoch: 3 [38400/60000 (64.00%)]\tLoss: 0.16 - Accuracy: 0.95\n",
      "Train Epoch: 3 [51200/60000 (85.33%)]\tLoss: 0.10 - Accuracy: 0.98\n",
      "\n",
      "Test set: Average loss: 0.00, Accuracy: 95.12%\n",
      "\n",
      "Train Epoch: 4 [0/60000 (0.00%)]\tLoss: 0.21 - Accuracy: 0.95\n",
      "Train Epoch: 4 [12800/60000 (21.33%)]\tLoss: 0.10 - Accuracy: 0.96\n",
      "Train Epoch: 4 [25600/60000 (42.67%)]\tLoss: 0.19 - Accuracy: 0.95\n",
      "Train Epoch: 4 [38400/60000 (64.00%)]\tLoss: 0.18 - Accuracy: 0.94\n",
      "Train Epoch: 4 [51200/60000 (85.33%)]\tLoss: 0.10 - Accuracy: 0.97\n",
      "\n",
      "Test set: Average loss: 0.00, Accuracy: 95.99%\n",
      "\n",
      "Train Epoch: 5 [0/60000 (0.00%)]\tLoss: 0.06 - Accuracy: 0.97\n",
      "Train Epoch: 5 [12800/60000 (21.33%)]\tLoss: 0.05 - Accuracy: 0.99\n",
      "Train Epoch: 5 [25600/60000 (42.67%)]\tLoss: 0.12 - Accuracy: 0.98\n",
      "Train Epoch: 5 [38400/60000 (64.00%)]\tLoss: 0.11 - Accuracy: 0.98\n",
      "Train Epoch: 5 [51200/60000 (85.33%)]\tLoss: 0.16 - Accuracy: 0.97\n",
      "\n",
      "Test set: Average loss: 0.00, Accuracy: 96.51%\n",
      "\n",
      "Train Epoch: 6 [0/60000 (0.00%)]\tLoss: 0.14 - Accuracy: 0.97\n",
      "Train Epoch: 6 [12800/60000 (21.33%)]\tLoss: 0.15 - Accuracy: 0.95\n",
      "Train Epoch: 6 [25600/60000 (42.67%)]\tLoss: 0.04 - Accuracy: 0.99\n",
      "Train Epoch: 6 [38400/60000 (64.00%)]\tLoss: 0.04 - Accuracy: 1.00\n",
      "Train Epoch: 6 [51200/60000 (85.33%)]\tLoss: 0.08 - Accuracy: 0.98\n",
      "\n",
      "Test set: Average loss: 0.00, Accuracy: 96.94%\n",
      "\n",
      "Train Epoch: 7 [0/60000 (0.00%)]\tLoss: 0.04 - Accuracy: 0.98\n",
      "Train Epoch: 7 [12800/60000 (21.33%)]\tLoss: 0.17 - Accuracy: 0.95\n",
      "Train Epoch: 7 [25600/60000 (42.67%)]\tLoss: 0.01 - Accuracy: 1.00\n",
      "Train Epoch: 7 [38400/60000 (64.00%)]\tLoss: 0.09 - Accuracy: 0.96\n",
      "Train Epoch: 7 [51200/60000 (85.33%)]\tLoss: 0.18 - Accuracy: 0.96\n",
      "\n",
      "Test set: Average loss: 0.00, Accuracy: 97.11%\n",
      "\n",
      "Train Epoch: 8 [0/60000 (0.00%)]\tLoss: 0.09 - Accuracy: 0.97\n",
      "Train Epoch: 8 [12800/60000 (21.33%)]\tLoss: 0.13 - Accuracy: 0.94\n",
      "Train Epoch: 8 [25600/60000 (42.67%)]\tLoss: 0.09 - Accuracy: 0.98\n",
      "Train Epoch: 8 [38400/60000 (64.00%)]\tLoss: 0.12 - Accuracy: 0.95\n",
      "Train Epoch: 8 [51200/60000 (85.33%)]\tLoss: 0.14 - Accuracy: 0.95\n",
      "\n",
      "Test set: Average loss: 0.00, Accuracy: 96.95%\n",
      "\n",
      "Train Epoch: 9 [0/60000 (0.00%)]\tLoss: 0.07 - Accuracy: 0.98\n",
      "Train Epoch: 9 [12800/60000 (21.33%)]\tLoss: 0.07 - Accuracy: 0.98\n",
      "Train Epoch: 9 [25600/60000 (42.67%)]\tLoss: 0.05 - Accuracy: 0.98\n",
      "Train Epoch: 9 [38400/60000 (64.00%)]\tLoss: 0.07 - Accuracy: 0.98\n",
      "Train Epoch: 9 [51200/60000 (85.33%)]\tLoss: 0.07 - Accuracy: 0.98\n",
      "\n",
      "Test set: Average loss: 0.00, Accuracy: 97.00%\n",
      "\n",
      "Train Epoch: 10 [0/60000 (0.00%)]\tLoss: 0.04 - Accuracy: 0.98\n",
      "Train Epoch: 10 [12800/60000 (21.33%)]\tLoss: 0.08 - Accuracy: 0.95\n",
      "Train Epoch: 10 [25600/60000 (42.67%)]\tLoss: 0.10 - Accuracy: 0.98\n",
      "Train Epoch: 10 [38400/60000 (64.00%)]\tLoss: 0.08 - Accuracy: 0.98\n",
      "Train Epoch: 10 [51200/60000 (85.33%)]\tLoss: 0.10 - Accuracy: 0.97\n",
      "\n",
      "Test set: Average loss: 0.00, Accuracy: 97.32%\n",
      "\n",
      "Train Epoch: 11 [0/60000 (0.00%)]\tLoss: 0.09 - Accuracy: 0.96\n",
      "Train Epoch: 11 [12800/60000 (21.33%)]\tLoss: 0.04 - Accuracy: 0.99\n",
      "Train Epoch: 11 [25600/60000 (42.67%)]\tLoss: 0.14 - Accuracy: 0.96\n",
      "Train Epoch: 11 [38400/60000 (64.00%)]\tLoss: 0.14 - Accuracy: 0.97\n",
      "Train Epoch: 11 [51200/60000 (85.33%)]\tLoss: 0.04 - Accuracy: 0.98\n",
      "\n",
      "Test set: Average loss: 0.00, Accuracy: 97.43%\n",
      "\n"
     ]
    }
   ],
   "source": [
    "EPOCHS = 12\n",
    "loss_fn = nn.CrossEntropyLoss()\n",
    "optimizer = AdamW(model.parameters(), lr=4e-3, weight_decay=1e-1)\n",
    "scheduler = torch.optim.lr_scheduler.StepLR(optimizer, step_size=1, gamma=0.7)\n",
    "\n",
    "\n",
    "for e in range(EPOCHS):\n",
    "    train(model, loss_fn, device, train_dataloader, optimizer, e, log_interval=100)\n",
    "    eval(model, loss_fn, device, eval_dataloader)\n",
    "    scheduler.step()"
   ]
  },
  {
   "cell_type": "markdown",
   "metadata": {},
   "source": [
    "After training our model we achieved ~97% accuracy. If we were spending more time on tuning the model, using a 2D Fourier or 2D convolutional pre-processor, it's very likely we could achieve a higher accuracy. Nonetheless, we were able to classify images with the Perceiver model with zero information about the 2D structure of the images.\n",
    "\n",
    "Let's now explore how we can use the same architecture for a text classification task. "
   ]
  },
  {
   "cell_type": "markdown",
   "metadata": {},
   "source": [
    "## Text Classification\n",
    "\n",
    "### Pre-Processing\n",
    "\n",
    "For this example, we will use the [AG_NEWS](https://pytorch.org/text/stable/datasets.html#ag-news) dataset which contains a corpus of news articles. Each article is classified as one of the following categories: World, Sports, Business or Sci/Tech."
   ]
  },
  {
   "cell_type": "code",
   "execution_count": 24,
   "metadata": {},
   "outputs": [],
   "source": [
    "from torchtext.datasets import AG_NEWS\n",
    "from torchtext.data.functional import to_map_style_dataset\n",
    "\n",
    "train_iter = AG_NEWS(split=\"train\")\n",
    "eval_iter = AG_NEWS(split=\"test\")\n",
    "\n",
    "train_dataset = to_map_style_dataset(train_iter)\n",
    "eval_dataset = to_map_style_dataset(eval_iter)"
   ]
  },
  {
   "cell_type": "markdown",
   "metadata": {},
   "source": [
    "With Perceiver IO, tokenization is extremely simple: you just need to convert the string to raw UTF-8 bytes. You don't need to apply more sophisticated tokenizers such as WordPiece or SentencePiece or BPE, etc. Then for the numericalization process, we will just convert each byte to a byte ID. Finally, we will pad the sequence to a max sequence length. The main reasons why Perceiver IO aims to get rid of tokenizers is because they tend to perform less well on rare words, and they don't transfer well from one language to another. \n",
    "\n",
    "In the paper implementation, the authors have some reserved tokens such as [BOS], [EOS], [SEP], etc., to represent the beginning of the sentence and the end of the sentence. For simplicity, we will just convert the sentence to raw bytes, then ID. "
   ]
  },
  {
   "cell_type": "code",
   "execution_count": 25,
   "metadata": {},
   "outputs": [],
   "source": [
    "class BytesTokenizer:\n",
    "    def __init__(self):\n",
    "        pass\n",
    "\n",
    "    def to_int(self, inputs):\n",
    "        if isinstance(inputs, str):\n",
    "            inputs = inputs.encode(\"utf-8\")\n",
    "        encoded = torch.frombuffer(inputs, dtype=torch.uint8).to(torch.int32)\n",
    "        return encoded.to(torch.int32)\n",
    "\n",
    "    @property\n",
    "    def vocab_size(self):\n",
    "        return 256"
   ]
  },
  {
   "cell_type": "markdown",
   "metadata": {},
   "source": [
    "We can validate the tokenizer is working properly with an example."
   ]
  },
  {
   "cell_type": "code",
   "execution_count": 26,
   "metadata": {},
   "outputs": [
    {
     "name": "stdout",
     "output_type": "stream",
     "text": [
      "Sentence: Hello Hello\n",
      "Tokenized sentence: tensor([ 72, 101, 108, 108, 111,  32,  72, 101, 108, 108, 111],\n",
      "       dtype=torch.int32)\n"
     ]
    },
    {
     "name": "stderr",
     "output_type": "stream",
     "text": [
      "/tmp/ipykernel_420991/1393707225.py:8: UserWarning: The given buffer is not writable, and PyTorch does not support non-writable tensors. This means you can write to the underlying (supposedly non-writable) buffer using the tensor. You may want to copy the buffer to protect its data or make it writable before converting it to a tensor. This type of warning will be suppressed for the rest of this program. (Triggered internally at  ../torch/csrc/utils/tensor_new.cpp:1111.)\n",
      "  encoded = torch.frombuffer(inputs, dtype=torch.uint8).to(torch.int32)\n"
     ]
    }
   ],
   "source": [
    "input = \"Hello Hello\"\n",
    "tokenizer = BytesTokenizer()\n",
    "tokenized_input = tokenizer.to_int(input)\n",
    "print(f\"Sentence: {input}\")\n",
    "print(f\"Tokenized sentence: {tokenized_input}\")"
   ]
  },
  {
   "cell_type": "markdown",
   "metadata": {},
   "source": [
    "We can see the number of tokens matches the number of characters in the original sentence. Additionally, the word \"Hello\" repeats twice.\n",
    "\n",
    "Unfortunately, when training the model with this tokenizer to classify the articles, I discovered the model was converging very slowly and didn't give strong results. Instead, we will use a simple word tokenizer. I think one of the reasons I was getting poor results on this task with the byte tokenizer was because the presence of certain words is highly correlated with the topics in the news articles. Here, we are training the model from scratch, so the model starts without a language representation. Therefore it's harder for the model to identify that certain sequences of bytes represents certain words which are relevant to the classification tasks. Usually these models get pre-trained on a masked language modeling task (fill in the missing/masked word in the sentence) to build a language representation, then gets fine-tuned on a text classification task. During the first step the model is able to build a language representation using the bytes tokenizer. As demonstrated in the paper, the authors get very strong results on the Glue benchmark. I tried to fine-tune a Perceiver IO model from the transformer library using a byte tokenizer on this task, and I also got good results. Therefore, the challenges probably appear when training the model from scratch with byte tokenizers on certain tasks such as text classification."
   ]
  },
  {
   "cell_type": "code",
   "execution_count": 27,
   "metadata": {},
   "outputs": [],
   "source": [
    "from torchtext.data.utils import get_tokenizer\n",
    "from torchtext.vocab import build_vocab_from_iterator\n",
    "\n",
    "tokenizer = get_tokenizer(\"basic_english\")\n",
    "\n",
    "\n",
    "def yield_tokens(data_iter):\n",
    "    for _, text in data_iter:\n",
    "        yield tokenizer(text)\n",
    "\n",
    "\n",
    "vocab = build_vocab_from_iterator(yield_tokens(train_iter), specials=[\"<unk>\"])\n",
    "vocab.set_default_index(vocab[\"<unk>\"])"
   ]
  },
  {
   "cell_type": "markdown",
   "metadata": {},
   "source": [
    "Next step is to implement a padding function so all the sequences in the batch will have the same length. If the length of the sequence exceeds the maximum sequence length, it will be truncated. "
   ]
  },
  {
   "cell_type": "code",
   "execution_count": 28,
   "metadata": {},
   "outputs": [],
   "source": [
    "def pad(max_sequence_length, inputs, pad_value=0):\n",
    "    input_len = inputs.shape[1]\n",
    "    # Truncate sequence if exceeds max sequence length\n",
    "    if input_len > max_sequence_length:\n",
    "        inputs = inputs[:max_sequence_length]\n",
    "    # Pad sequence with pad value if shorter the max sequence length\n",
    "    pad_len = max_sequence_length - input_len\n",
    "    padded_input = torch.nn.functional.pad(inputs, pad=((0, pad_len)), value=pad_value)\n",
    "    return padded_input"
   ]
  },
  {
   "cell_type": "markdown",
   "metadata": {},
   "source": [
    "Now that we have our tokenizer and padding function, we can create a collate_batch function. This function will be used by our `DataLoader` to tokenize and pad each sentence contained in the batch. "
   ]
  },
  {
   "cell_type": "code",
   "execution_count": 29,
   "metadata": {},
   "outputs": [],
   "source": [
    "MAX_SEQUENCE_LEN = 256\n",
    "\n",
    "\n",
    "def collate_batch(batch):\n",
    "    label_list, text_list = [], []\n",
    "\n",
    "    for (_label, _text) in batch:\n",
    "        # Convert labels [1, 2, 3, 4] to [0, 1, 2, 3] for loss function\n",
    "        label_processed = _label - 1\n",
    "        label_list.append(label_processed)\n",
    "        # Tokenize and numericalize sentence\n",
    "        tokenized_text = torch.unsqueeze(\n",
    "            torch.tensor(vocab(tokenizer(_text)), dtype=torch.int64), 0\n",
    "        )\n",
    "        # Pad and truncate the tokenized sentence to match MAX_SEQUENCE_LEN\n",
    "        padded_text = pad(MAX_SEQUENCE_LEN, tokenized_text)\n",
    "        text_list.append(padded_text)\n",
    "\n",
    "    label_list = torch.tensor(label_list, dtype=torch.int64)\n",
    "    text_list = torch.cat(text_list, dim=0)\n",
    "    return text_list.to(device), label_list.to(device)"
   ]
  },
  {
   "cell_type": "markdown",
   "metadata": {},
   "source": [
    "We are just missing one piece of the puzzle before starting to train our model: a text processing layer. This processing layer is very similar to the one you could find in a Bert model. It consists of:\n",
    "\n",
    "- Converting each token in the sentence to embeddings\n",
    "- Representing the position of each token as embeddings\n",
    "- Adding the token embeddings to the function embeddings"
   ]
  },
  {
   "cell_type": "code",
   "execution_count": 30,
   "metadata": {},
   "outputs": [],
   "source": [
    "class TextProcessor(nn.Module):\n",
    "    def __init__(self, vocab_size, d_model, max_position_embeddings=256):\n",
    "        super().__init__()\n",
    "        self.embeddings = nn.Embedding(num_embeddings=vocab_size, embedding_dim=d_model)\n",
    "        self.position_embeddings = nn.Embedding(max_position_embeddings, d_model)\n",
    "\n",
    "    def forward(self, inputs):\n",
    "        embeddings = self.embeddings(inputs)\n",
    "        seq_len = inputs.shape[1]\n",
    "        position_ids = torch.arange(0, seq_len, device=inputs.device)\n",
    "        embeddings = embeddings + self.position_embeddings(position_ids)\n",
    "        return embeddings"
   ]
  },
  {
   "cell_type": "markdown",
   "metadata": {},
   "source": [
    "### Training\n",
    "\n",
    "We can finally train our model to classify news articles. First we create a Dataloader for the training and evaluation datasets using the `collate_batch` function previously defined. "
   ]
  },
  {
   "cell_type": "code",
   "execution_count": 31,
   "metadata": {},
   "outputs": [],
   "source": [
    "train_dataloader = DataLoader(\n",
    "    train_dataset, batch_size=128, shuffle=True, collate_fn=collate_batch\n",
    ")\n",
    "eval_dataloader = DataLoader(\n",
    "    eval_dataset, batch_size=128, shuffle=True, collate_fn=collate_batch\n",
    ")"
   ]
  },
  {
   "cell_type": "markdown",
   "metadata": {},
   "source": [
    "Then we instantiate the Perceiver model. This is the exact same model we used for the image classification task, except we use a text processor layer, set the number of labels to 4, and adjust the input_dim parameter to match the embedding length for each token."
   ]
  },
  {
   "cell_type": "code",
   "execution_count": 32,
   "metadata": {},
   "outputs": [],
   "source": [
    "vocab_size = len(vocab.vocab)\n",
    "n_labels = 4\n",
    "input_dim = MAX_SEQUENCE_LEN\n",
    "latent_embedding_dim = 64\n",
    "num_latents = 64\n",
    "query_dim = 64\n",
    "qk_channels = query_dim\n",
    "v_channels = qk_channels\n",
    "num_heads = 4\n",
    "nb_processor = 2\n",
    "widening_factor = 1\n",
    "\n",
    "text_processor = TextProcessor(vocab_size, input_dim)\n",
    "\n",
    "model = PerceiverIO(\n",
    "    n_labels,\n",
    "    input_dim,\n",
    "    latent_embedding_dim,\n",
    "    query_dim,\n",
    "    qk_channels,\n",
    "    v_channels,\n",
    "    num_latents,\n",
    "    num_heads,\n",
    "    nb_processor,\n",
    "    widening_factor,\n",
    "    input_processor=text_processor,\n",
    ")\n",
    "\n",
    "model = model.to(device)"
   ]
  },
  {
   "cell_type": "markdown",
   "metadata": {},
   "source": [
    "To train the model we can reuse the training and evaluation loop from the previous tasks."
   ]
  },
  {
   "cell_type": "code",
   "execution_count": 33,
   "metadata": {},
   "outputs": [
    {
     "name": "stdout",
     "output_type": "stream",
     "text": [
      "Train Epoch: 0 [0/120000 (0.00%)]\tLoss: 1.58 - Accuracy: 0.23\n",
      "Train Epoch: 0 [32000/120000 (26.67%)]\tLoss: 0.38 - Accuracy: 0.89\n",
      "Train Epoch: 0 [64000/120000 (53.33%)]\tLoss: 0.33 - Accuracy: 0.91\n",
      "Train Epoch: 0 [96000/120000 (80.00%)]\tLoss: 0.31 - Accuracy: 0.89\n",
      "\n",
      "Test set: Average loss: 0.00, Accuracy: 91.30%\n",
      "\n",
      "Train Epoch: 1 [0/120000 (0.00%)]\tLoss: 0.19 - Accuracy: 0.95\n",
      "Train Epoch: 1 [32000/120000 (26.67%)]\tLoss: 0.24 - Accuracy: 0.91\n",
      "Train Epoch: 1 [64000/120000 (53.33%)]\tLoss: 0.17 - Accuracy: 0.95\n",
      "Train Epoch: 1 [96000/120000 (80.00%)]\tLoss: 0.24 - Accuracy: 0.92\n",
      "\n",
      "Test set: Average loss: 0.00, Accuracy: 91.70%\n",
      "\n"
     ]
    }
   ],
   "source": [
    "EPOCHS = 2\n",
    "\n",
    "loss_fn = nn.CrossEntropyLoss()\n",
    "optimizer = AdamW(model.parameters(), lr=2e-3, weight_decay=1e-1)\n",
    "\n",
    "for e in range(EPOCHS):\n",
    "    train(model, loss_fn, device, train_dataloader, optimizer, e, log_interval=250)\n",
    "    eval(model, loss_fn, device, eval_dataloader)"
   ]
  },
  {
   "cell_type": "markdown",
   "metadata": {},
   "source": [
    "~91% accuracy on the evaluation set, not bad. With the same architecture we were able to tackle two distinct tasks. "
   ]
  },
  {
   "cell_type": "markdown",
   "metadata": {},
   "source": [
    "## Conclusion\n",
    "\n",
    "By showing you how we can implement this architecture from scratch, I hope I've given you a better idea about how the Perceiver architecture can solve a wide variety of tasks by just modifying the pre-processing and post-processing steps while keeping the rest of the architecture tasks agnostic. In this post, we focused our efforts on image classification and text classification tasks, but there's still so much more you can do. In the [transformers library](https://huggingface.co/docs/transformers/model_doc/perceiver), as well as Niels Rogge's [blog post](https://huggingface.co/blog/perceiver), you can learn how to implement other pre-processor and post-processor modules to tackle a wide variety of tasks, such as masked language model, optical flow, and more. We could easily extend these modules to question answering or object detection as well. Where this architecture really shines is with multi-modal tasks. One example is this [multi-modal auto-encoding](https://huggingface.co/blog/perceiver#perceiver-for-multimodal-autoencoding) task where the authors were able to accurately reconstruct multi-modal inputs consisting of a sequence of images, audio recordings, and class labels. In the perceiver IO paper, the authors were even able to replace the original transformer model in AlphaStar ([Arulkumaran et al, 2019](https://arxiv.org/abs/1902.01724Honestly)) and match state-of-the-art results. Honestly, the possibilities are endless, so go have fun :). "
   ]
  },
  {
   "cell_type": "markdown",
   "metadata": {},
   "source": [
    "## Ressources\n",
    "\n",
    "- [Perceiver IO: A General Architecture for Structured Inputs & Outputs (Jaegle et al, 2021)](https://arxiv.org/abs/2107.14795)\n",
    "- [CS25 I Stanford Seminar - DeepMind's Perceiver and Perceiver IO: new data family architecture](https://www.youtube.com/watch?v=wTZ3o36lXoQ)\n",
    "- [Perceiver IO: a scalable, fully-attentional model that works on any modality](https://huggingface.co/blog/perceiver)\n",
    "- [Perceiver IO implementation from DeepMind](https://github.com/deepmind/deepmind-research/tree/master/perceiver)\n",
    "- [Perceiver IO implementation from HuggingFace Transformers](https://github.com/huggingface/transformers/tree/main/src/transformers/models/perceiver)\n",
    "- [Natural Language Processing with Transformers book](https://learning.oreilly.com/library/view/natural-language-processing/9781098136789/)\n"
   ]
  }
 ],
 "metadata": {
  "kernelspec": {
   "display_name": "Python 3.8.15 64-bit",
   "language": "python",
   "name": "python3"
  },
  "language_info": {
   "codemirror_mode": {
    "name": "ipython",
    "version": 3
   },
   "file_extension": ".py",
   "mimetype": "text/x-python",
   "name": "python",
   "nbconvert_exporter": "python",
   "pygments_lexer": "ipython3",
   "version": "3.8.15"
  },
  "orig_nbformat": 4,
  "vscode": {
   "interpreter": {
    "hash": "5b6e8fba36db23bc4d54e0302cd75fdd75c29d9edcbab68d6cfc74e7e4b30305"
   }
  }
 },
 "nbformat": 4,
 "nbformat_minor": 2
}
